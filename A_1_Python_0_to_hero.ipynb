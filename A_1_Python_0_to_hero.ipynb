{
  "nbformat": 4,
  "nbformat_minor": 0,
  "metadata": {
    "colab": {
      "name": "A-1 Python 0 to hero.ipynb",
      "provenance": [],
      "collapsed_sections": []
    },
    "kernelspec": {
      "name": "python3",
      "display_name": "Python 3"
    },
    "language_info": {
      "name": "python"
    }
  },
  "cells": [
    {
      "cell_type": "code",
      "metadata": {
        "colab": {
          "base_uri": "https://localhost:8080/"
        },
        "id": "gwJfwZAJcHNV",
        "outputId": "896a6d46-db35-4463-f356-b9a9a37c5bf6"
      },
      "source": [
        "x=int(input('enter base:'))\n",
        "y=int(input('enter power:'))\n",
        "print('without using function-result:',x**y)\n",
        "z=pow(x,y)\n",
        "print('using pow function-result:',z)"
      ],
      "execution_count": 3,
      "outputs": [
        {
          "output_type": "stream",
          "text": [
            "enter base:4\n",
            "enter power:6\n",
            "without using function-result: 4096\n",
            "using pow function-result: 4096\n"
          ],
          "name": "stdout"
        }
      ]
    },
    {
      "cell_type": "code",
      "metadata": {
        "colab": {
          "base_uri": "https://localhost:8080/"
        },
        "id": "qDWvpu8hUYsE",
        "outputId": "84fc84e2-5583-4ae9-e125-c3af267674bf"
      },
      "source": [
        "a=30.2\n",
        "print(a)\n",
        "print(type(a))\n",
        "x='''hi\n",
        "I am'''\n",
        "print(x)\n"
      ],
      "execution_count": 1,
      "outputs": [
        {
          "output_type": "stream",
          "text": [
            "30.2\n",
            "<class 'float'>\n",
            "hi\n",
            "I am\n"
          ],
          "name": "stdout"
        }
      ]
    },
    {
      "cell_type": "code",
      "metadata": {
        "id": "Pfelbq3aOXh5"
      },
      "source": [
        ""
      ],
      "execution_count": null,
      "outputs": []
    }
  ]
}